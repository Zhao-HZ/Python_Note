{
 "cells": [
  {
   "cell_type": "code",
   "execution_count": null,
   "metadata": {},
   "outputs": [],
   "source": [
    "import pandas as pd\n",
    "\n",
    "df = pd.read_csv(\"./csv/911.csv\")\n",
    "\n",
    "# print(df.head())\n",
    "print(df.info())"
   ]
  },
  {
   "cell_type": "code",
   "execution_count": null,
   "metadata": {},
   "outputs": [],
   "source": [
    "print(df['title']) # Just look at this column"
   ]
  },
  {
   "cell_type": "code",
   "execution_count": 12,
   "metadata": {},
   "outputs": [
    {
     "data": {
      "text/plain": [
       "['EMS', 'BACK PAINS/INJURY']"
      ]
     },
     "execution_count": 12,
     "metadata": {},
     "output_type": "execute_result"
    }
   ],
   "source": [
    "df['title'].str.split(\": \")[0]"
   ]
  },
  {
   "cell_type": "markdown",
   "metadata": {},
   "source": [
    "Series.str.contains()的用法\n"
   ]
  },
  {
   "cell_type": "code",
   "execution_count": null,
   "metadata": {},
   "outputs": [],
   "source": [
    "import pandas as pd\n",
    "\n",
    "import re\n",
    "\n",
    "city = pd.Series(['New York', 'Lisbon', 'Tokyo', 'Paris', 'Munich'])\n",
    "\n",
    "idx = ['c1', 'c2', 'c3', 'c4', 'c5']\n",
    "\n",
    "city.index = idx\n",
    "# print(city)\n",
    "\n",
    "result = city.str.contains(pat='is')\n",
    "\n",
    "print(result)"
   ]
  },
  {
   "cell_type": "code",
   "execution_count": null,
   "metadata": {},
   "outputs": [],
   "source": [
    "result = city.str.contains(pat='i[a-z]', regex=True)\n",
    "result"
   ]
  },
  {
   "cell_type": "code",
   "execution_count": 5,
   "metadata": {},
   "outputs": [
    {
     "data": {
      "text/plain": [
       "['Fire', 'EMS', 'Traffic']"
      ]
     },
     "execution_count": 5,
     "metadata": {},
     "output_type": "execute_result"
    }
   ],
   "source": [
    "import pandas as pd\n",
    "import numpy as np\n",
    "\n",
    "df = pd.read_csv('./csv/911.csv')\n",
    "# Convert to list\n",
    "temp_list = df['title'].str.split(\": \").tolist()\n",
    "cate_list = list(set([i[0] for i in temp_list]))\n",
    "# cate_list = set([i[0] for i in temp_list])\n",
    "cate_list"
   ]
  },
  {
   "cell_type": "code",
   "execution_count": null,
   "metadata": {},
   "outputs": [],
   "source": [
    "zeros_df = pd.DataFrame(np.zeros(df.shape[0], len(cate_list)), columns=cate_list)"
   ]
  },
  {
   "cell_type": "code",
   "execution_count": 6,
   "metadata": {},
   "outputs": [
    {
     "data": {
      "text/plain": [
       "['Fire', 'Traffic', 'EMS']"
      ]
     },
     "execution_count": 6,
     "metadata": {},
     "output_type": "execute_result"
    }
   ],
   "source": [
    "import pandas as pd\n",
    "import numpy as np\n",
    "\n",
    "df = pd.read_csv('./csv/911.csv')\n",
    "\n",
    "temp_list = df['title'].str.split(\": \").tolist()\n",
    "cate_list = list(set([i[0] for i in temp_list]))\n",
    "cate_list"
   ]
  },
  {
   "cell_type": "code",
   "execution_count": null,
   "metadata": {},
   "outputs": [],
   "source": [
    "import pandas as pd\n",
    "import numpy as np\n",
    "\n",
    "df = pd.read_csv('./csv/911.csv')\n",
    "\n",
    "temp_list = df[\"title\"].str.split(\": \").tolist()\n",
    "cate_list = list(set([i[0] for i in temp_list]))\n",
    "# print(cate_list)\n",
    "zeros_df = pd.DataFrame(np.zeros((df.shape[0], len(cate_list))), columns=cate_list)\n",
    "\n",
    "for cate in cate_list:\n",
    "    zeros_df[cate][df['title'].str.contains(cate)] = 1\n",
    "    print(zeros_df)\n",
    "    break\n",
    "\n",
    "# zeros_df['EMS'][df['title'].str.contains('EMS')] = 1\n"
   ]
  },
  {
   "cell_type": "code",
   "execution_count": null,
   "metadata": {},
   "outputs": [],
   "source": [
    "import pandas as pd\n",
    "import numpy as np\n",
    "\n",
    "df = pd.read_csv('./csv/911.csv')\n",
    "\n",
    "temp_list = df[\"title\"].str.split(\": \").tolist()\n",
    "cate_list = list(set([i[0] for i in temp_list]))\n",
    "# print(cate_list)\n",
    "zeros_df = pd.DataFrame(np.zeros((df.shape[0], len(cate_list))), \\\n",
    "    columns=cate_list)\n",
    "\n",
    "# print(temp_list[0])\n",
    "\n",
    "for i in range(df.shape[0]):\n",
    "    zeros_df.loc[i, temp_list[i][0]] = 1\n",
    "# print(zeros_df)\n",
    "\n",
    "sum_ret = zeros_df.sum(axis=0)\n",
    "print(sum_ret)"
   ]
  },
  {
   "cell_type": "markdown",
   "metadata": {},
   "source": [
    "提取月份"
   ]
  },
  {
   "cell_type": "code",
   "execution_count": null,
   "metadata": {},
   "outputs": [],
   "source": [
    "import pandas as pd\n",
    "import numpy as np\n",
    "\n",
    "df = pd.read_csv('./csv/911.csv')\n",
    "\n",
    "temp_list = df[\"title\"].str.split(\": \").tolist()\n",
    "cate_list = [i[0] for i in temp_list]\n",
    "# cate_list is a 1 x 10000 (more) dim array\n",
    "arr = np.array(cate_list).reshape((df.shape[0], 1))\n",
    "cate_df = pd.DataFrame(arr, columns=[\"cate\"])\n",
    "print(cate_df)"
   ]
  },
  {
   "cell_type": "code",
   "execution_count": 4,
   "metadata": {},
   "outputs": [
    {
     "name": "stdout",
     "output_type": "stream",
     "text": [
      "         lat      lat.1                                               desc  \\\n",
      "0  40.297876 -75.581294  REINDEER CT & DEAD END;  NEW HANOVER; Station ...   \n",
      "1  40.258061 -75.264680  BRIAR PATH & WHITEMARSH LN;  HATFIELD TOWNSHIP...   \n",
      "2  40.121182 -75.351975  HAWS AVE; NORRISTOWN; 2015-12-10 @ 14:39:21-St...   \n",
      "3  40.116153 -75.343513  AIRY ST & SWEDE ST;  NORRISTOWN; Station 308A;...   \n",
      "4  40.251492 -75.603350  CHERRYWOOD CT & DEAD END;  LOWER POTTSGROVE; S...   \n",
      "\n",
      "       zip                    title         timeStamp                twp  \\\n",
      "0  19525.0   EMS: BACK PAINS/INJURY  2015/12/10 17:10        NEW HANOVER   \n",
      "1  19446.0  EMS: DIABETIC EMERGENCY  2015/12/10 17:29  HATFIELD TOWNSHIP   \n",
      "2  19401.0      Fire: GAS-ODOR/LEAK  2015/12/10 14:39         NORRISTOWN   \n",
      "3  19401.0   EMS: CARDIAC EMERGENCY  2015/12/10 16:47         NORRISTOWN   \n",
      "4      NaN           EMS: DIZZINESS  2015/12/10 16:56   LOWER POTTSGROVE   \n",
      "\n",
      "                         addr  e  cate  \n",
      "0      REINDEER CT & DEAD END  1   EMS  \n",
      "1  BRIAR PATH & WHITEMARSH LN  1   EMS  \n",
      "2                    HAWS AVE  1  Fire  \n",
      "3          AIRY ST & SWEDE ST  1   EMS  \n",
      "4    CHERRYWOOD CT & DEAD END  1   EMS  \n"
     ]
    }
   ],
   "source": [
    "import pandas as pd\n",
    "import numpy as np\n",
    "\n",
    "df = pd.read_csv('./csv/911.csv', encoding=\"ISO-8859-1\")\n",
    "\n",
    "temp_list = df[\"title\"].str.split(\": \").tolist()\n",
    "cate_list = [i[0] for i in temp_list]\n",
    "# cate_list is a 1 x 10000 (more) dim array\n",
    "arr = np.array(cate_list).reshape((df.shape[0], 1))\n",
    "\n",
    "df[\"cate\"] = pd.DataFrame(np.array(cate_list).reshape((df.shape[0], 1)))\n",
    "\n",
    "print(df.head(5)) # Take the first 5 lines\n",
    "\n",
    "df.groupby(by='cate').count()\n",
    "# df.groupby(by='cate').count()['title']"
   ]
  }
 ],
 "metadata": {
  "interpreter": {
   "hash": "76216444724f0212e870cb5cd16d874d588ba76ac4ce1041cf2a683795561189"
  },
  "kernelspec": {
   "display_name": "Python 3.9.7 64-bit",
   "language": "python",
   "name": "python3"
  },
  "language_info": {
   "codemirror_mode": {
    "name": "ipython",
    "version": 3
   },
   "file_extension": ".py",
   "mimetype": "text/x-python",
   "name": "python",
   "nbconvert_exporter": "python",
   "pygments_lexer": "ipython3",
   "version": "3.8.8"
  },
  "orig_nbformat": 4
 },
 "nbformat": 4,
 "nbformat_minor": 2
}
