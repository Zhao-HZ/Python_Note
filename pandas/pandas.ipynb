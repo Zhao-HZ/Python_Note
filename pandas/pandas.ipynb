{
 "cells": [
  {
   "cell_type": "markdown",
   "id": "17ace75e",
   "metadata": {},
   "source": [
    "Pandas常用的数据类型\n",
    "\n",
    "Series 一维, 带标签数组\n",
    "\n",
    "DataFrame 二维, Series容器\n"
   ]
  },
  {
   "cell_type": "code",
   "execution_count": 1,
   "id": "61268833",
   "metadata": {},
   "outputs": [
    {
     "name": "stdout",
     "output_type": "stream",
     "text": [
      "0     1\n",
      "1     2\n",
      "2    13\n",
      "3     3\n",
      "4     4\n",
      "dtype: int64\n"
     ]
    }
   ],
   "source": [
    "import pandas as pd\n",
    "\n",
    "print(pd.Series([1, 2, 13, 3, 4]))"
   ]
  },
  {
   "cell_type": "code",
   "execution_count": 2,
   "id": "f3ff5899",
   "metadata": {},
   "outputs": [
    {
     "name": "stdout",
     "output_type": "stream",
     "text": [
      "a     1\n",
      "b    23\n",
      "c     2\n",
      "d     2\n",
      "e     1\n",
      "dtype: int64\n",
      "a     1.0\n",
      "b    23.0\n",
      "c     2.0\n",
      "d     2.0\n",
      "e     1.0\n",
      "dtype: float64\n"
     ]
    }
   ],
   "source": [
    "import pandas as pd\n",
    "\n",
    "t2 = pd.Series([1, 23, 2, 2, 1], index=list('abcde'))\n",
    "print(t2)\n",
    "print(t2.astype(float))"
   ]
  },
  {
   "cell_type": "code",
   "execution_count": 4,
   "id": "2e81613c",
   "metadata": {},
   "outputs": [
    {
     "name": "stdout",
     "output_type": "stream",
     "text": [
      "name       A\n",
      "age      200\n",
      "tel     1000\n",
      "IQ       100\n",
      "EQ       100\n",
      "dtype: object\n"
     ]
    }
   ],
   "source": [
    "import pandas as pd\n",
    "import string\n",
    "\n",
    "# temp_dict = {'name': 'A', 'age': 200, 'tel': 1000, 'IQ': 100, 'EQ': 100}\n",
    "temp_dict = {'name': 'A', 'age': 200, 'tel': 1000, 'IQ': 100, 'EQ': 100}\n",
    "t3 = pd.Series(temp_dict)\n",
    "print(t3)\n",
    "#---\n",
    "# a = {string.ascii_uppercase[i] : i for i in range(10)}\n",
    "# print(pd.Series(a, index=list(string.ascii_uppercase[5 : 15])))\n",
    "# print(t3['age'])"
   ]
  },
  {
   "cell_type": "markdown",
   "id": "aa78a43b",
   "metadata": {},
   "source": [
    "Pandas的切片和索引"
   ]
  },
  {
   "cell_type": "code",
   "execution_count": 2,
   "id": "59020e67",
   "metadata": {},
   "outputs": [
    {
     "name": "stdout",
     "output_type": "stream",
     "text": [
      "200 1000\n"
     ]
    }
   ],
   "source": [
    "print(t3['age'], t3['tel'])"
   ]
  },
  {
   "cell_type": "code",
   "execution_count": 4,
   "id": "c1aa8b23",
   "metadata": {},
   "outputs": [
    {
     "name": "stdout",
     "output_type": "stream",
     "text": [
      "age     200\n",
      "tel    1000\n",
      "dtype: object\n"
     ]
    }
   ],
   "source": [
    "# print(t3[:2])\n",
    "print(t3[['age', 'tel']])"
   ]
  },
  {
   "cell_type": "code",
   "execution_count": 4,
   "id": "19d79e66",
   "metadata": {},
   "outputs": [
    {
     "data": {
      "text/plain": [
       "0     1\n",
       "1     2\n",
       "2     4\n",
       "3     5\n",
       "4    10\n",
       "dtype: int64"
      ]
     },
     "execution_count": 4,
     "metadata": {},
     "output_type": "execute_result"
    }
   ],
   "source": [
    "import pandas as pd\n",
    "#布尔索引\n",
    "t = pd.Series([1, 2, 4, 5, 10])\n",
    "# print(t[t > 3])\n",
    "# print(t)\n",
    "t\n"
   ]
  },
  {
   "cell_type": "markdown",
   "id": "b8f71e2c",
   "metadata": {},
   "source": [
    "显示属性"
   ]
  },
  {
   "cell_type": "code",
   "execution_count": 2,
   "id": "9858dbf7",
   "metadata": {},
   "outputs": [
    {
     "name": "stdout",
     "output_type": "stream",
     "text": [
      "RangeIndex(start=0, stop=5, step=1)\n",
      "---\n",
      "0\n",
      "1\n",
      "2\n",
      "3\n",
      "4\n",
      "---\n",
      "5\n"
     ]
    }
   ],
   "source": [
    "print(t.index)\n",
    "print('---')\n",
    "for i in t.index:\n",
    "    print(i)\n",
    "print('---')\n",
    "print(len(t.index))"
   ]
  },
  {
   "cell_type": "code",
   "execution_count": null,
   "id": "5f94810f",
   "metadata": {},
   "outputs": [],
   "source": [
    "print(list(t.index))\n",
    "print(list(t.index)[0 : 4])"
   ]
  },
  {
   "cell_type": "code",
   "execution_count": 25,
   "id": "f72a2d80",
   "metadata": {},
   "outputs": [
    {
     "data": {
      "text/plain": [
       "array([ 1,  2,  4,  5, 10], dtype=int64)"
      ]
     },
     "execution_count": 25,
     "metadata": {},
     "output_type": "execute_result"
    }
   ],
   "source": [
    "t.values"
   ]
  },
  {
   "cell_type": "code",
   "execution_count": 10,
   "id": "d1e7e55c",
   "metadata": {},
   "outputs": [
    {
     "data": {
      "text/plain": [
       "0    10\n",
       "1    10\n",
       "2     2\n",
       "3     3\n",
       "4     4\n",
       "dtype: int64"
      ]
     },
     "execution_count": 10,
     "metadata": {},
     "output_type": "execute_result"
    }
   ],
   "source": [
    "s = pd.Series(range(5))\n",
    "# print(s)\n",
    "# s.where(s > 0)\n",
    "# s.mask(s > 0)\n",
    "s.where(s > 1, 10)"
   ]
  },
  {
   "cell_type": "markdown",
   "id": "c3bf5bfd",
   "metadata": {},
   "source": [
    "DataFrame"
   ]
  },
  {
   "cell_type": "code",
   "execution_count": null,
   "id": "8475db5c",
   "metadata": {},
   "outputs": [],
   "source": [
    "import pandas as pd\n",
    "import numpy as np\n",
    "\n",
    "pd.DataFrame(np.arange(12).reshape(3, 4))"
   ]
  },
  {
   "cell_type": "markdown",
   "id": "9a5dad53",
   "metadata": {},
   "source": [
    "### DataFrame对象既有行索引又有列索引 <br>\n",
    "### 行索引, 表明不同行， 横向索引, 叫index， 0轴, axis = 0 <br>\n",
    "### 列索引, 表明不同列， 纵向索引, 叫column， 1轴, axis = 1\n"
   ]
  },
  {
   "cell_type": "code",
   "execution_count": null,
   "id": "166a6d28",
   "metadata": {},
   "outputs": [],
   "source": [
    "pd.DataFrame(np.arange(20).reshape(5, 4), index=list('abcde'), columns=list('wxyz'))"
   ]
  },
  {
   "cell_type": "code",
   "execution_count": 7,
   "id": "95f3d2ff",
   "metadata": {},
   "outputs": [
    {
     "data": {
      "text/plain": [
       "name    object\n",
       "age      int64\n",
       "tel      int64\n",
       "dtype: object"
      ]
     },
     "execution_count": 7,
     "metadata": {},
     "output_type": "execute_result"
    }
   ],
   "source": [
    "import pandas as pd\n",
    "\n",
    "d1 = {'name': ['A', 'B'], 'age': [20, 32], 'tel': [123, 456]}\n",
    "df = pd.DataFrame(d1)\n",
    "# df.shape\n",
    "df.dtypes"
   ]
  },
  {
   "cell_type": "markdown",
   "id": "f87472b8",
   "metadata": {},
   "source": [
    "DataFrame的基础属性<br>\n",
    "df.shape       行数 列数<br>\n",
    "df.dtypes      列数据类型<br>\n",
    "df.ndim        数据维度<br>\n",
    "df.index       行索引<br>\n",
    "df.columns     列索引<br>\n",
    "df.valus       对象值<br>\n",
    "DataFrame整体情况查询\n",
    "df.head(3)     显示头部几行 默认5行\n",
    "df.tail(3)     显示末尾几行 默认5行\n",
    "df.info()      行列, 列索引, 列非空值个数, 列类型, 内存\n",
    "df.describe()  计数, 均值, 标准差, 最大值, 四分位数, 最小值"
   ]
  },
  {
   "cell_type": "code",
   "execution_count": 7,
   "id": "4387f14d",
   "metadata": {},
   "outputs": [
    {
     "name": "stdout",
     "output_type": "stream",
     "text": [
      "0       1\n",
      "9383    1\n",
      "9384    1\n",
      "9386    1\n",
      "9389    1\n",
      "9390    1\n",
      "9391    1\n",
      "9392    1\n",
      "9393    1\n",
      "9394    1\n",
      "9396    1\n",
      "9397    1\n",
      "9398    1\n",
      "9400    1\n",
      "9401    1\n",
      "9402    1\n",
      "9406    1\n",
      "9407    1\n",
      "9408    1\n",
      "9409    1\n",
      "Name: Count_AnimalName, dtype: int64\n"
     ]
    }
   ],
   "source": [
    "import pandas as pd\n",
    "\n",
    "df = pd.read_csv('../csv/dogNames2.csv')\n",
    "df = df.sort_values(by='Count_AnimalName', ascending=True)\n",
    "# print(df)\n",
    "# print(df[:20])\n",
    "print(df[:20]['Count_AnimalName'])\n"
   ]
  },
  {
   "cell_type": "code",
   "execution_count": 10,
   "id": "2985ff0b",
   "metadata": {},
   "outputs": [
    {
     "data": {
      "text/html": [
       "<div>\n",
       "<style scoped>\n",
       "    .dataframe tbody tr th:only-of-type {\n",
       "        vertical-align: middle;\n",
       "    }\n",
       "\n",
       "    .dataframe tbody tr th {\n",
       "        vertical-align: top;\n",
       "    }\n",
       "\n",
       "    .dataframe thead th {\n",
       "        text-align: right;\n",
       "    }\n",
       "</style>\n",
       "<table border=\"1\" class=\"dataframe\">\n",
       "  <thead>\n",
       "    <tr style=\"text-align: right;\">\n",
       "      <th></th>\n",
       "      <th>w</th>\n",
       "      <th>x</th>\n",
       "      <th>y</th>\n",
       "      <th>z</th>\n",
       "    </tr>\n",
       "  </thead>\n",
       "  <tbody>\n",
       "    <tr>\n",
       "      <th>a</th>\n",
       "      <td>0</td>\n",
       "      <td>1</td>\n",
       "      <td>2</td>\n",
       "      <td>3</td>\n",
       "    </tr>\n",
       "    <tr>\n",
       "      <th>b</th>\n",
       "      <td>4</td>\n",
       "      <td>5</td>\n",
       "      <td>6</td>\n",
       "      <td>7</td>\n",
       "    </tr>\n",
       "    <tr>\n",
       "      <th>c</th>\n",
       "      <td>8</td>\n",
       "      <td>9</td>\n",
       "      <td>10</td>\n",
       "      <td>11</td>\n",
       "    </tr>\n",
       "  </tbody>\n",
       "</table>\n",
       "</div>"
      ],
      "text/plain": [
       "   w  x   y   z\n",
       "a  0  1   2   3\n",
       "b  4  5   6   7\n",
       "c  8  9  10  11"
      ]
     },
     "execution_count": 10,
     "metadata": {},
     "output_type": "execute_result"
    }
   ],
   "source": [
    "import pandas as pd\n",
    "import numpy as np\n",
    "\n",
    "t3 = pd.DataFrame(np.arange(12).reshape(3, 4)\\\n",
    "    , index = list(\"abc\"), columns=list('wxyz'))\n",
    "# print(t3)\n",
    "t3\n",
    "# print('---')\n",
    "# print(t3.loc['a', 'w'])"
   ]
  },
  {
   "cell_type": "code",
   "execution_count": 11,
   "id": "e0f806e9",
   "metadata": {},
   "outputs": [
    {
     "data": {
      "text/html": [
       "<div>\n",
       "<style scoped>\n",
       "    .dataframe tbody tr th:only-of-type {\n",
       "        vertical-align: middle;\n",
       "    }\n",
       "\n",
       "    .dataframe tbody tr th {\n",
       "        vertical-align: top;\n",
       "    }\n",
       "\n",
       "    .dataframe thead th {\n",
       "        text-align: right;\n",
       "    }\n",
       "</style>\n",
       "<table border=\"1\" class=\"dataframe\">\n",
       "  <thead>\n",
       "    <tr style=\"text-align: right;\">\n",
       "      <th></th>\n",
       "      <th>w</th>\n",
       "      <th>x</th>\n",
       "      <th>y</th>\n",
       "      <th>z</th>\n",
       "    </tr>\n",
       "  </thead>\n",
       "  <tbody>\n",
       "    <tr>\n",
       "      <th>a</th>\n",
       "      <td>0</td>\n",
       "      <td>1</td>\n",
       "      <td>2</td>\n",
       "      <td>3</td>\n",
       "    </tr>\n",
       "    <tr>\n",
       "      <th>c</th>\n",
       "      <td>8</td>\n",
       "      <td>9</td>\n",
       "      <td>10</td>\n",
       "      <td>11</td>\n",
       "    </tr>\n",
       "  </tbody>\n",
       "</table>\n",
       "</div>"
      ],
      "text/plain": [
       "   w  x   y   z\n",
       "a  0  1   2   3\n",
       "c  8  9  10  11"
      ]
     },
     "execution_count": 11,
     "metadata": {},
     "output_type": "execute_result"
    }
   ],
   "source": [
    "t3.loc[['a', 'c']]"
   ]
  },
  {
   "cell_type": "code",
   "execution_count": 15,
   "id": "74d18ee5",
   "metadata": {},
   "outputs": [
    {
     "data": {
      "text/html": [
       "<div>\n",
       "<style scoped>\n",
       "    .dataframe tbody tr th:only-of-type {\n",
       "        vertical-align: middle;\n",
       "    }\n",
       "\n",
       "    .dataframe tbody tr th {\n",
       "        vertical-align: top;\n",
       "    }\n",
       "\n",
       "    .dataframe thead th {\n",
       "        text-align: right;\n",
       "    }\n",
       "</style>\n",
       "<table border=\"1\" class=\"dataframe\">\n",
       "  <thead>\n",
       "    <tr style=\"text-align: right;\">\n",
       "      <th></th>\n",
       "      <th>w</th>\n",
       "      <th>x</th>\n",
       "      <th>y</th>\n",
       "      <th>z</th>\n",
       "    </tr>\n",
       "  </thead>\n",
       "  <tbody>\n",
       "    <tr>\n",
       "      <th>a</th>\n",
       "      <td>0</td>\n",
       "      <td>1</td>\n",
       "      <td>2</td>\n",
       "      <td>3</td>\n",
       "    </tr>\n",
       "    <tr>\n",
       "      <th>b</th>\n",
       "      <td>4</td>\n",
       "      <td>5</td>\n",
       "      <td>6</td>\n",
       "      <td>7</td>\n",
       "    </tr>\n",
       "    <tr>\n",
       "      <th>c</th>\n",
       "      <td>8</td>\n",
       "      <td>9</td>\n",
       "      <td>10</td>\n",
       "      <td>11</td>\n",
       "    </tr>\n",
       "  </tbody>\n",
       "</table>\n",
       "</div>"
      ],
      "text/plain": [
       "   w  x   y   z\n",
       "a  0  1   2   3\n",
       "b  4  5   6   7\n",
       "c  8  9  10  11"
      ]
     },
     "execution_count": 15,
     "metadata": {},
     "output_type": "execute_result"
    }
   ],
   "source": [
    "import pandas as pd\n",
    "import numpy as np\n",
    "\n",
    "t3 = pd.DataFrame(np.arange(12).reshape(3, 4)\\\n",
    "    , index = list(\"abc\"), columns=list('wxyz'))\n",
    "t3"
   ]
  },
  {
   "cell_type": "code",
   "execution_count": 16,
   "id": "b7f708c4",
   "metadata": {},
   "outputs": [
    {
     "data": {
      "text/html": [
       "<div>\n",
       "<style scoped>\n",
       "    .dataframe tbody tr th:only-of-type {\n",
       "        vertical-align: middle;\n",
       "    }\n",
       "\n",
       "    .dataframe tbody tr th {\n",
       "        vertical-align: top;\n",
       "    }\n",
       "\n",
       "    .dataframe thead th {\n",
       "        text-align: right;\n",
       "    }\n",
       "</style>\n",
       "<table border=\"1\" class=\"dataframe\">\n",
       "  <thead>\n",
       "    <tr style=\"text-align: right;\">\n",
       "      <th></th>\n",
       "      <th>w</th>\n",
       "      <th>z</th>\n",
       "    </tr>\n",
       "  </thead>\n",
       "  <tbody>\n",
       "    <tr>\n",
       "      <th>a</th>\n",
       "      <td>0</td>\n",
       "      <td>3</td>\n",
       "    </tr>\n",
       "    <tr>\n",
       "      <th>b</th>\n",
       "      <td>4</td>\n",
       "      <td>7</td>\n",
       "    </tr>\n",
       "    <tr>\n",
       "      <th>c</th>\n",
       "      <td>8</td>\n",
       "      <td>11</td>\n",
       "    </tr>\n",
       "  </tbody>\n",
       "</table>\n",
       "</div>"
      ],
      "text/plain": [
       "   w   z\n",
       "a  0   3\n",
       "b  4   7\n",
       "c  8  11"
      ]
     },
     "execution_count": 16,
     "metadata": {},
     "output_type": "execute_result"
    }
   ],
   "source": [
    "import pandas as pd\n",
    "import numpy as np\n",
    "\n",
    "t3 = pd.DataFrame(np.arange(12).reshape(3, 4), index=list(\"abc\"), columns=list(\"wxyz\"))\n",
    "t3.loc[:, ['w', 'z']]"
   ]
  },
  {
   "cell_type": "code",
   "execution_count": 17,
   "id": "1c2e6fcc",
   "metadata": {},
   "outputs": [
    {
     "data": {
      "text/html": [
       "<div>\n",
       "<style scoped>\n",
       "    .dataframe tbody tr th:only-of-type {\n",
       "        vertical-align: middle;\n",
       "    }\n",
       "\n",
       "    .dataframe tbody tr th {\n",
       "        vertical-align: top;\n",
       "    }\n",
       "\n",
       "    .dataframe thead th {\n",
       "        text-align: right;\n",
       "    }\n",
       "</style>\n",
       "<table border=\"1\" class=\"dataframe\">\n",
       "  <thead>\n",
       "    <tr style=\"text-align: right;\">\n",
       "      <th></th>\n",
       "      <th>w</th>\n",
       "      <th>z</th>\n",
       "    </tr>\n",
       "  </thead>\n",
       "  <tbody>\n",
       "    <tr>\n",
       "      <th>a</th>\n",
       "      <td>0</td>\n",
       "      <td>3</td>\n",
       "    </tr>\n",
       "    <tr>\n",
       "      <th>b</th>\n",
       "      <td>4</td>\n",
       "      <td>7</td>\n",
       "    </tr>\n",
       "  </tbody>\n",
       "</table>\n",
       "</div>"
      ],
      "text/plain": [
       "   w  z\n",
       "a  0  3\n",
       "b  4  7"
      ]
     },
     "execution_count": 17,
     "metadata": {},
     "output_type": "execute_result"
    }
   ],
   "source": [
    "t3.loc[['a', 'b'], ['w', 'z']]"
   ]
  },
  {
   "cell_type": "code",
   "execution_count": 18,
   "id": "c68950e9",
   "metadata": {},
   "outputs": [
    {
     "data": {
      "text/html": [
       "<div>\n",
       "<style scoped>\n",
       "    .dataframe tbody tr th:only-of-type {\n",
       "        vertical-align: middle;\n",
       "    }\n",
       "\n",
       "    .dataframe tbody tr th {\n",
       "        vertical-align: top;\n",
       "    }\n",
       "\n",
       "    .dataframe thead th {\n",
       "        text-align: right;\n",
       "    }\n",
       "</style>\n",
       "<table border=\"1\" class=\"dataframe\">\n",
       "  <thead>\n",
       "    <tr style=\"text-align: right;\">\n",
       "      <th></th>\n",
       "      <th>w</th>\n",
       "      <th>z</th>\n",
       "    </tr>\n",
       "  </thead>\n",
       "  <tbody>\n",
       "    <tr>\n",
       "      <th>a</th>\n",
       "      <td>0</td>\n",
       "      <td>3</td>\n",
       "    </tr>\n",
       "    <tr>\n",
       "      <th>b</th>\n",
       "      <td>4</td>\n",
       "      <td>7</td>\n",
       "    </tr>\n",
       "    <tr>\n",
       "      <th>c</th>\n",
       "      <td>8</td>\n",
       "      <td>11</td>\n",
       "    </tr>\n",
       "  </tbody>\n",
       "</table>\n",
       "</div>"
      ],
      "text/plain": [
       "   w   z\n",
       "a  0   3\n",
       "b  4   7\n",
       "c  8  11"
      ]
     },
     "execution_count": 18,
     "metadata": {},
     "output_type": "execute_result"
    }
   ],
   "source": [
    "t3.loc['a' : 'c', ['w', 'z']]"
   ]
  },
  {
   "cell_type": "code",
   "execution_count": 33,
   "id": "9fb13b01",
   "metadata": {},
   "outputs": [
    {
     "data": {
      "text/html": [
       "<div>\n",
       "<style scoped>\n",
       "    .dataframe tbody tr th:only-of-type {\n",
       "        vertical-align: middle;\n",
       "    }\n",
       "\n",
       "    .dataframe tbody tr th {\n",
       "        vertical-align: top;\n",
       "    }\n",
       "\n",
       "    .dataframe thead th {\n",
       "        text-align: right;\n",
       "    }\n",
       "</style>\n",
       "<table border=\"1\" class=\"dataframe\">\n",
       "  <thead>\n",
       "    <tr style=\"text-align: right;\">\n",
       "      <th></th>\n",
       "      <th>w</th>\n",
       "      <th>x</th>\n",
       "      <th>y</th>\n",
       "      <th>z</th>\n",
       "    </tr>\n",
       "  </thead>\n",
       "  <tbody>\n",
       "    <tr>\n",
       "      <th>a</th>\n",
       "      <td>0</td>\n",
       "      <td>1</td>\n",
       "      <td>2</td>\n",
       "      <td>3</td>\n",
       "    </tr>\n",
       "    <tr>\n",
       "      <th>b</th>\n",
       "      <td>4</td>\n",
       "      <td>5</td>\n",
       "      <td>6</td>\n",
       "      <td>7</td>\n",
       "    </tr>\n",
       "    <tr>\n",
       "      <th>c</th>\n",
       "      <td>8</td>\n",
       "      <td>9</td>\n",
       "      <td>10</td>\n",
       "      <td>11</td>\n",
       "    </tr>\n",
       "  </tbody>\n",
       "</table>\n",
       "</div>"
      ],
      "text/plain": [
       "   w  x   y   z\n",
       "a  0  1   2   3\n",
       "b  4  5   6   7\n",
       "c  8  9  10  11"
      ]
     },
     "execution_count": 33,
     "metadata": {},
     "output_type": "execute_result"
    }
   ],
   "source": [
    "# print(t3)\n",
    "t3\n",
    "# print(t3.iloc[1:3, :2])\n",
    "# print(t3.iloc[:, 'w'])"
   ]
  },
  {
   "cell_type": "code",
   "execution_count": 35,
   "id": "256d7cab",
   "metadata": {},
   "outputs": [
    {
     "data": {
      "text/plain": [
       "a     2\n",
       "b     6\n",
       "c    10\n",
       "Name: y, dtype: int64"
      ]
     },
     "execution_count": 35,
     "metadata": {},
     "output_type": "execute_result"
    }
   ],
   "source": [
    "t3.iloc[:, 2]"
   ]
  },
  {
   "cell_type": "code",
   "execution_count": 36,
   "id": "8d4489a1",
   "metadata": {},
   "outputs": [
    {
     "data": {
      "text/html": [
       "<div>\n",
       "<style scoped>\n",
       "    .dataframe tbody tr th:only-of-type {\n",
       "        vertical-align: middle;\n",
       "    }\n",
       "\n",
       "    .dataframe tbody tr th {\n",
       "        vertical-align: top;\n",
       "    }\n",
       "\n",
       "    .dataframe thead th {\n",
       "        text-align: right;\n",
       "    }\n",
       "</style>\n",
       "<table border=\"1\" class=\"dataframe\">\n",
       "  <thead>\n",
       "    <tr style=\"text-align: right;\">\n",
       "      <th></th>\n",
       "      <th>y</th>\n",
       "      <th>x</th>\n",
       "    </tr>\n",
       "  </thead>\n",
       "  <tbody>\n",
       "    <tr>\n",
       "      <th>a</th>\n",
       "      <td>2</td>\n",
       "      <td>1</td>\n",
       "    </tr>\n",
       "    <tr>\n",
       "      <th>c</th>\n",
       "      <td>10</td>\n",
       "      <td>9</td>\n",
       "    </tr>\n",
       "  </tbody>\n",
       "</table>\n",
       "</div>"
      ],
      "text/plain": [
       "    y  x\n",
       "a   2  1\n",
       "c  10  9"
      ]
     },
     "execution_count": 36,
     "metadata": {},
     "output_type": "execute_result"
    }
   ],
   "source": [
    "t3.iloc[[0, 2], [2, 1]]"
   ]
  },
  {
   "cell_type": "code",
   "execution_count": 45,
   "id": "34f19098",
   "metadata": {},
   "outputs": [
    {
     "data": {
      "text/html": [
       "<div>\n",
       "<style scoped>\n",
       "    .dataframe tbody tr th:only-of-type {\n",
       "        vertical-align: middle;\n",
       "    }\n",
       "\n",
       "    .dataframe tbody tr th {\n",
       "        vertical-align: top;\n",
       "    }\n",
       "\n",
       "    .dataframe thead th {\n",
       "        text-align: right;\n",
       "    }\n",
       "</style>\n",
       "<table border=\"1\" class=\"dataframe\">\n",
       "  <thead>\n",
       "    <tr style=\"text-align: right;\">\n",
       "      <th></th>\n",
       "      <th>w</th>\n",
       "      <th>x</th>\n",
       "    </tr>\n",
       "  </thead>\n",
       "  <tbody>\n",
       "    <tr>\n",
       "      <th>b</th>\n",
       "      <td>4</td>\n",
       "      <td>5</td>\n",
       "    </tr>\n",
       "    <tr>\n",
       "      <th>c</th>\n",
       "      <td>8</td>\n",
       "      <td>9</td>\n",
       "    </tr>\n",
       "  </tbody>\n",
       "</table>\n",
       "</div>"
      ],
      "text/plain": [
       "   w  x\n",
       "b  4  5\n",
       "c  8  9"
      ]
     },
     "execution_count": 45,
     "metadata": {},
     "output_type": "execute_result"
    }
   ],
   "source": [
    "t3.iloc[1 : , : 2]"
   ]
  },
  {
   "cell_type": "code",
   "execution_count": null,
   "id": "26513f38",
   "metadata": {},
   "outputs": [],
   "source": [
    "t3.iloc[1 : , : 2] = 30\n",
    "t3"
   ]
  },
  {
   "cell_type": "markdown",
   "id": "b11e60e6",
   "metadata": {},
   "source": [
    "布尔索引\n",
    "& AND \n",
    "| OR"
   ]
  },
  {
   "cell_type": "code",
   "execution_count": null,
   "id": "4fdb0b91",
   "metadata": {},
   "outputs": [],
   "source": [
    "import pandas as pd\n",
    "\n",
    "df = pd.read_csv('./dogNames2.csv')\n",
    "df[df['Count_AnimalName'] > 800]"
   ]
  },
  {
   "cell_type": "code",
   "execution_count": null,
   "id": "2cdac860",
   "metadata": {},
   "outputs": [],
   "source": [
    "df[(800 < df[\"Count_AnimalName\"]) & (df[\"Count_AnimalName\"] < 1000)]"
   ]
  },
  {
   "cell_type": "code",
   "execution_count": 13,
   "id": "5f8ae09e",
   "metadata": {},
   "outputs": [
    {
     "name": "stdout",
     "output_type": "stream",
     "text": [
      "Fuck\n",
      "your\n",
      "everyday\n"
     ]
    }
   ],
   "source": [
    "df = pd.Series({\"info\": \"Fuck/you/sda/asdasdd\", \"Information\": \"Fuck/your/everyday\"})\n",
    "# df.str.split('/')\n",
    "df.str.split('/')['Information']\n",
    "\n",
    "for i in df.str.split('/')['Information']:\n",
    "    print(i)"
   ]
  },
  {
   "cell_type": "code",
   "execution_count": 2,
   "id": "5ab4e78a",
   "metadata": {},
   "outputs": [
    {
     "data": {
      "text/html": [
       "<div>\n",
       "<style scoped>\n",
       "    .dataframe tbody tr th:only-of-type {\n",
       "        vertical-align: middle;\n",
       "    }\n",
       "\n",
       "    .dataframe tbody tr th {\n",
       "        vertical-align: top;\n",
       "    }\n",
       "\n",
       "    .dataframe thead th {\n",
       "        text-align: right;\n",
       "    }\n",
       "</style>\n",
       "<table border=\"1\" class=\"dataframe\">\n",
       "  <thead>\n",
       "    <tr style=\"text-align: right;\">\n",
       "      <th></th>\n",
       "      <th>info</th>\n",
       "      <th>haha</th>\n",
       "    </tr>\n",
       "  </thead>\n",
       "  <tbody>\n",
       "    <tr>\n",
       "      <th>0</th>\n",
       "      <td>ab, cd, ef</td>\n",
       "      <td>False</td>\n",
       "    </tr>\n",
       "    <tr>\n",
       "      <th>1</th>\n",
       "      <td>ff, dd, qq</td>\n",
       "      <td>33</td>\n",
       "    </tr>\n",
       "    <tr>\n",
       "      <th>2</th>\n",
       "      <td>ef, as, nm</td>\n",
       "      <td>44</td>\n",
       "    </tr>\n",
       "  </tbody>\n",
       "</table>\n",
       "</div>"
      ],
      "text/plain": [
       "         info   haha\n",
       "0  ab, cd, ef  False\n",
       "1  ff, dd, qq     33\n",
       "2  ef, as, nm     44"
      ]
     },
     "execution_count": 2,
     "metadata": {},
     "output_type": "execute_result"
    }
   ],
   "source": [
    "import pandas as pd\n",
    "\n",
    "df = pd.DataFrame({'info': ['ab, cd, ef', 'ff, dd, qq', 'ef, as, nm'], 'haha': [False, '33', '44']})\n",
    "# df['info'].str.split(', ')\n",
    "df"
   ]
  },
  {
   "cell_type": "markdown",
   "id": "c485a7b9",
   "metadata": {},
   "source": [
    "缺失数据的处理\n",
    "判断数据是否为NaN \n",
    "```\n",
    "pd.isnull(df), pd.notnull(df)\n",
    "```\n",
    "处理方法\n",
    "方法一: \n",
    "```\n",
    "dropna(axis=0, how='any', inplace=False)\n",
    "```\n",
    "方法二: 填充数据 \n",
    "```\n",
    "t.fillna(t.mean()), t.fiallna(t.median()) t.fillna(0)\n",
    "```"
   ]
  },
  {
   "cell_type": "code",
   "execution_count": null,
   "id": "7d378ff9",
   "metadata": {},
   "outputs": [],
   "source": [
    "# pd.isnull(df)\n",
    "pd.isnull(df['info'])"
   ]
  },
  {
   "cell_type": "markdown",
   "id": "ad49020b",
   "metadata": {},
   "source": [
    "其他方法"
   ]
  },
  {
   "cell_type": "code",
   "execution_count": 4,
   "id": "45f4a5f0",
   "metadata": {},
   "outputs": [
    {
     "data": {
      "text/html": [
       "<div>\n",
       "<style scoped>\n",
       "    .dataframe tbody tr th:only-of-type {\n",
       "        vertical-align: middle;\n",
       "    }\n",
       "\n",
       "    .dataframe tbody tr th {\n",
       "        vertical-align: top;\n",
       "    }\n",
       "\n",
       "    .dataframe thead th {\n",
       "        text-align: right;\n",
       "    }\n",
       "</style>\n",
       "<table border=\"1\" class=\"dataframe\">\n",
       "  <thead>\n",
       "    <tr style=\"text-align: right;\">\n",
       "      <th></th>\n",
       "      <th>A</th>\n",
       "      <th>B</th>\n",
       "      <th>C</th>\n",
       "      <th>D</th>\n",
       "    </tr>\n",
       "  </thead>\n",
       "  <tbody>\n",
       "    <tr>\n",
       "      <th>0</th>\n",
       "      <td>NaN</td>\n",
       "      <td>2.0</td>\n",
       "      <td>NaN</td>\n",
       "      <td>0.0</td>\n",
       "    </tr>\n",
       "    <tr>\n",
       "      <th>1</th>\n",
       "      <td>3.0</td>\n",
       "      <td>4.0</td>\n",
       "      <td>NaN</td>\n",
       "      <td>1.0</td>\n",
       "    </tr>\n",
       "    <tr>\n",
       "      <th>2</th>\n",
       "      <td>NaN</td>\n",
       "      <td>NaN</td>\n",
       "      <td>NaN</td>\n",
       "      <td>NaN</td>\n",
       "    </tr>\n",
       "    <tr>\n",
       "      <th>3</th>\n",
       "      <td>NaN</td>\n",
       "      <td>3.0</td>\n",
       "      <td>NaN</td>\n",
       "      <td>4.0</td>\n",
       "    </tr>\n",
       "  </tbody>\n",
       "</table>\n",
       "</div>"
      ],
      "text/plain": [
       "     A    B   C    D\n",
       "0  NaN  2.0 NaN  0.0\n",
       "1  3.0  4.0 NaN  1.0\n",
       "2  NaN  NaN NaN  NaN\n",
       "3  NaN  3.0 NaN  4.0"
      ]
     },
     "execution_count": 4,
     "metadata": {},
     "output_type": "execute_result"
    }
   ],
   "source": [
    "import pandas as pd\n",
    "import numpy as np\n",
    "\n",
    "df = pd.DataFrame([[np.nan, 2, np.nan, 0],\n",
    "                   [3, 4, np.nan, 1],\n",
    "                   [np.nan, np.nan, np.nan, np.nan],\n",
    "                   [np.nan, 3, np.nan, 4]],\n",
    "                  columns=list(\"ABCD\"))\n",
    "df"
   ]
  },
  {
   "cell_type": "code",
   "execution_count": 5,
   "id": "e3b7fe7e",
   "metadata": {},
   "outputs": [
    {
     "data": {
      "text/html": [
       "<div>\n",
       "<style scoped>\n",
       "    .dataframe tbody tr th:only-of-type {\n",
       "        vertical-align: middle;\n",
       "    }\n",
       "\n",
       "    .dataframe tbody tr th {\n",
       "        vertical-align: top;\n",
       "    }\n",
       "\n",
       "    .dataframe thead th {\n",
       "        text-align: right;\n",
       "    }\n",
       "</style>\n",
       "<table border=\"1\" class=\"dataframe\">\n",
       "  <thead>\n",
       "    <tr style=\"text-align: right;\">\n",
       "      <th></th>\n",
       "      <th>A</th>\n",
       "      <th>B</th>\n",
       "      <th>C</th>\n",
       "      <th>D</th>\n",
       "    </tr>\n",
       "  </thead>\n",
       "  <tbody>\n",
       "    <tr>\n",
       "      <th>0</th>\n",
       "      <td>100.0</td>\n",
       "      <td>2.0</td>\n",
       "      <td>100.0</td>\n",
       "      <td>0.0</td>\n",
       "    </tr>\n",
       "    <tr>\n",
       "      <th>1</th>\n",
       "      <td>3.0</td>\n",
       "      <td>4.0</td>\n",
       "      <td>100.0</td>\n",
       "      <td>1.0</td>\n",
       "    </tr>\n",
       "    <tr>\n",
       "      <th>2</th>\n",
       "      <td>100.0</td>\n",
       "      <td>100.0</td>\n",
       "      <td>100.0</td>\n",
       "      <td>100.0</td>\n",
       "    </tr>\n",
       "    <tr>\n",
       "      <th>3</th>\n",
       "      <td>100.0</td>\n",
       "      <td>3.0</td>\n",
       "      <td>100.0</td>\n",
       "      <td>4.0</td>\n",
       "    </tr>\n",
       "  </tbody>\n",
       "</table>\n",
       "</div>"
      ],
      "text/plain": [
       "       A      B      C      D\n",
       "0  100.0    2.0  100.0    0.0\n",
       "1    3.0    4.0  100.0    1.0\n",
       "2  100.0  100.0  100.0  100.0\n",
       "3  100.0    3.0  100.0    4.0"
      ]
     },
     "execution_count": 5,
     "metadata": {},
     "output_type": "execute_result"
    }
   ],
   "source": [
    "df.fillna(100)"
   ]
  },
  {
   "cell_type": "markdown",
   "id": "33c5cd4d",
   "metadata": {},
   "source": [
    "See: https://pandas.pydata.org/docs/reference/api/pandas.Series.fillna.html?highlight=fillna#pandas.Series.fillna"
   ]
  },
  {
   "cell_type": "markdown",
   "id": "757903a9",
   "metadata": {},
   "source": [
    "Other Method that we can use\n",
    "mean()\n",
    "man()\n"
   ]
  },
  {
   "cell_type": "code",
   "execution_count": 43,
   "id": "fdbf524f",
   "metadata": {},
   "outputs": [
    {
     "data": {
      "text/html": [
       "<div>\n",
       "<style scoped>\n",
       "    .dataframe tbody tr th:only-of-type {\n",
       "        vertical-align: middle;\n",
       "    }\n",
       "\n",
       "    .dataframe tbody tr th {\n",
       "        vertical-align: top;\n",
       "    }\n",
       "\n",
       "    .dataframe thead th {\n",
       "        text-align: right;\n",
       "    }\n",
       "</style>\n",
       "<table border=\"1\" class=\"dataframe\">\n",
       "  <thead>\n",
       "    <tr style=\"text-align: right;\">\n",
       "      <th></th>\n",
       "      <th>Company</th>\n",
       "      <th>Salary</th>\n",
       "      <th>Age</th>\n",
       "      <th>Intro</th>\n",
       "    </tr>\n",
       "  </thead>\n",
       "  <tbody>\n",
       "    <tr>\n",
       "      <th>0</th>\n",
       "      <td>A</td>\n",
       "      <td>39</td>\n",
       "      <td>39</td>\n",
       "      <td>daskjd</td>\n",
       "    </tr>\n",
       "    <tr>\n",
       "      <th>1</th>\n",
       "      <td>C</td>\n",
       "      <td>24</td>\n",
       "      <td>40</td>\n",
       "      <td>rior</td>\n",
       "    </tr>\n",
       "    <tr>\n",
       "      <th>2</th>\n",
       "      <td>B</td>\n",
       "      <td>14</td>\n",
       "      <td>37</td>\n",
       "      <td>349</td>\n",
       "    </tr>\n",
       "    <tr>\n",
       "      <th>3</th>\n",
       "      <td>B</td>\n",
       "      <td>5</td>\n",
       "      <td>40</td>\n",
       "      <td>fdgkjl</td>\n",
       "    </tr>\n",
       "    <tr>\n",
       "      <th>4</th>\n",
       "      <td>B</td>\n",
       "      <td>8</td>\n",
       "      <td>23</td>\n",
       "      <td>rior</td>\n",
       "    </tr>\n",
       "    <tr>\n",
       "      <th>5</th>\n",
       "      <td>A</td>\n",
       "      <td>42</td>\n",
       "      <td>16</td>\n",
       "      <td>daskjd</td>\n",
       "    </tr>\n",
       "    <tr>\n",
       "      <th>6</th>\n",
       "      <td>A</td>\n",
       "      <td>33</td>\n",
       "      <td>42</td>\n",
       "      <td>jtretj</td>\n",
       "    </tr>\n",
       "    <tr>\n",
       "      <th>7</th>\n",
       "      <td>B</td>\n",
       "      <td>35</td>\n",
       "      <td>33</td>\n",
       "      <td>fdgkjl</td>\n",
       "    </tr>\n",
       "    <tr>\n",
       "      <th>8</th>\n",
       "      <td>C</td>\n",
       "      <td>47</td>\n",
       "      <td>33</td>\n",
       "      <td>jtretj</td>\n",
       "    </tr>\n",
       "    <tr>\n",
       "      <th>9</th>\n",
       "      <td>A</td>\n",
       "      <td>38</td>\n",
       "      <td>20</td>\n",
       "      <td>rior</td>\n",
       "    </tr>\n",
       "  </tbody>\n",
       "</table>\n",
       "</div>"
      ],
      "text/plain": [
       "  Company  Salary  Age   Intro\n",
       "0       A      39   39  daskjd\n",
       "1       C      24   40    rior\n",
       "2       B      14   37     349\n",
       "3       B       5   40  fdgkjl\n",
       "4       B       8   23    rior\n",
       "5       A      42   16  daskjd\n",
       "6       A      33   42  jtretj\n",
       "7       B      35   33  fdgkjl\n",
       "8       C      47   33  jtretj\n",
       "9       A      38   20    rior"
      ]
     },
     "execution_count": 43,
     "metadata": {},
     "output_type": "execute_result"
    }
   ],
   "source": [
    "import pandas as pd\n",
    "import numpy as np\n",
    "\n",
    "company = ['A', 'B', 'C']\n",
    "comments = ['daskjd', 'jtretj', 'fdgkjl', '349', 'rior']\n",
    "\n",
    "data = pd.DataFrame({\n",
    "    'Company': [company[i] for i in np.random.randint(0, len(company), 10)],\n",
    "    'Salary': np.random.randint(5, 50, 10),\n",
    "    'Age': np.random.randint(15, 50, 10),\n",
    "    'Intro': [comments[i] for i in np.random.randint(0, len(comments), 10)]\n",
    "})\n",
    "data"
   ]
  },
  {
   "cell_type": "code",
   "execution_count": 59,
   "id": "3e45d46a",
   "metadata": {},
   "outputs": [
    {
     "data": {
      "text/html": [
       "<div>\n",
       "<style scoped>\n",
       "    .dataframe tbody tr th:only-of-type {\n",
       "        vertical-align: middle;\n",
       "    }\n",
       "\n",
       "    .dataframe tbody tr th {\n",
       "        vertical-align: top;\n",
       "    }\n",
       "\n",
       "    .dataframe thead th {\n",
       "        text-align: right;\n",
       "    }\n",
       "</style>\n",
       "<table border=\"1\" class=\"dataframe\">\n",
       "  <thead>\n",
       "    <tr style=\"text-align: right;\">\n",
       "      <th></th>\n",
       "      <th>Salary</th>\n",
       "      <th>Age</th>\n",
       "    </tr>\n",
       "    <tr>\n",
       "      <th>Company</th>\n",
       "      <th></th>\n",
       "      <th></th>\n",
       "    </tr>\n",
       "  </thead>\n",
       "  <tbody>\n",
       "    <tr>\n",
       "      <th>C</th>\n",
       "      <td>75</td>\n",
       "      <td>136</td>\n",
       "    </tr>\n",
       "    <tr>\n",
       "      <th>A</th>\n",
       "      <td>67</td>\n",
       "      <td>111</td>\n",
       "    </tr>\n",
       "    <tr>\n",
       "      <th>B</th>\n",
       "      <td>51</td>\n",
       "      <td>68</td>\n",
       "    </tr>\n",
       "  </tbody>\n",
       "</table>\n",
       "</div>"
      ],
      "text/plain": [
       "         Salary  Age\n",
       "Company             \n",
       "C            75  136\n",
       "A            67  111\n",
       "B            51   68"
      ]
     },
     "execution_count": 59,
     "metadata": {},
     "output_type": "execute_result"
    }
   ],
   "source": [
    "group = data.groupby('Company')\n",
    "group = group.sum()\n",
    "# group = group.sort_values(['Salary'],\\\n",
    "                          ascending=False)\n",
    "# group\n",
    "# list(group)"
   ]
  },
  {
   "cell_type": "code",
   "execution_count": 64,
   "id": "7cc6b564-abea-4e23-a90f-9477eaf8e59f",
   "metadata": {},
   "outputs": [
    {
     "data": {
      "text/html": [
       "<div>\n",
       "<style scoped>\n",
       "    .dataframe tbody tr th:only-of-type {\n",
       "        vertical-align: middle;\n",
       "    }\n",
       "\n",
       "    .dataframe tbody tr th {\n",
       "        vertical-align: top;\n",
       "    }\n",
       "\n",
       "    .dataframe thead th {\n",
       "        text-align: right;\n",
       "    }\n",
       "</style>\n",
       "<table border=\"1\" class=\"dataframe\">\n",
       "  <thead>\n",
       "    <tr style=\"text-align: right;\">\n",
       "      <th></th>\n",
       "      <th>Salary</th>\n",
       "      <th>Age</th>\n",
       "    </tr>\n",
       "    <tr>\n",
       "      <th>Company</th>\n",
       "      <th></th>\n",
       "      <th></th>\n",
       "    </tr>\n",
       "  </thead>\n",
       "  <tbody>\n",
       "    <tr>\n",
       "      <th>C</th>\n",
       "      <td>75</td>\n",
       "      <td>136</td>\n",
       "    </tr>\n",
       "    <tr>\n",
       "      <th>A</th>\n",
       "      <td>67</td>\n",
       "      <td>111</td>\n",
       "    </tr>\n",
       "    <tr>\n",
       "      <th>B</th>\n",
       "      <td>51</td>\n",
       "      <td>68</td>\n",
       "    </tr>\n",
       "  </tbody>\n",
       "</table>\n",
       "</div>"
      ],
      "text/plain": [
       "         Salary  Age\n",
       "Company             \n",
       "C            75  136\n",
       "A            67  111\n",
       "B            51   68"
      ]
     },
     "execution_count": 64,
     "metadata": {},
     "output_type": "execute_result"
    }
   ],
   "source": [
    "# group = group.sum()\n",
    "group = group.sort_values(['Age']\\\n",
    "        , ascending=False)\n",
    "group"
   ]
  },
  {
   "cell_type": "markdown",
   "id": "dab8ca5c-681a-4b31-b223-7dc13c121fcc",
   "metadata": {},
   "source": [
    "### a\n",
    "### b\n",
    "### c\n",
    "## ascending = True:\n",
    "### a < b < c\n",
    "## ascending = False:\n",
    "### a > b > c"
   ]
  },
  {
   "cell_type": "markdown",
   "id": "d8adc875-59cb-4f8e-b1fd-f9c9c8accb92",
   "metadata": {},
   "source": [
    "## sum()函数要groupby使用\n",
    "## sum()返回的值为DataFrame或者Series"
   ]
  },
  {
   "cell_type": "code",
   "execution_count": 66,
   "id": "eb4b1f24-00e7-4eef-9668-0121af01567a",
   "metadata": {},
   "outputs": [
    {
     "name": "stdout",
     "output_type": "stream",
     "text": [
      "A\n",
      "  Company  Salary  Age\n",
      "4       A       6   30\n",
      "9       A      10   23\n",
      "B\n",
      "  Company  Salary  Age\n",
      "0       B      18   24\n",
      "2       B      33   43\n",
      "3       B       6   46\n",
      "8       B      30   16\n",
      "C\n",
      "  Company  Salary  Age\n",
      "1       C      25   18\n",
      "5       C      44   36\n",
      "6       C      36   30\n",
      "7       C       5   27\n"
     ]
    },
    {
     "data": {
      "text/html": [
       "<div>\n",
       "<style scoped>\n",
       "    .dataframe tbody tr th:only-of-type {\n",
       "        vertical-align: middle;\n",
       "    }\n",
       "\n",
       "    .dataframe tbody tr th {\n",
       "        vertical-align: top;\n",
       "    }\n",
       "\n",
       "    .dataframe thead th {\n",
       "        text-align: right;\n",
       "    }\n",
       "</style>\n",
       "<table border=\"1\" class=\"dataframe\">\n",
       "  <thead>\n",
       "    <tr style=\"text-align: right;\">\n",
       "      <th></th>\n",
       "      <th>Salary</th>\n",
       "      <th>Age</th>\n",
       "    </tr>\n",
       "    <tr>\n",
       "      <th>Company</th>\n",
       "      <th></th>\n",
       "      <th></th>\n",
       "    </tr>\n",
       "  </thead>\n",
       "  <tbody>\n",
       "    <tr>\n",
       "      <th>A</th>\n",
       "      <td>6</td>\n",
       "      <td>23</td>\n",
       "    </tr>\n",
       "    <tr>\n",
       "      <th>B</th>\n",
       "      <td>6</td>\n",
       "      <td>16</td>\n",
       "    </tr>\n",
       "    <tr>\n",
       "      <th>C</th>\n",
       "      <td>5</td>\n",
       "      <td>18</td>\n",
       "    </tr>\n",
       "  </tbody>\n",
       "</table>\n",
       "</div>"
      ],
      "text/plain": [
       "         Salary  Age\n",
       "Company             \n",
       "A             6   23\n",
       "B             6   16\n",
       "C             5   18"
      ]
     },
     "execution_count": 66,
     "metadata": {},
     "output_type": "execute_result"
    }
   ],
   "source": [
    "import pandas as pd\n",
    "import numpy as np\n",
    "\n",
    "company = ['A', 'B', 'C']\n",
    "\n",
    "data = pd.DataFrame({\n",
    "    'Company': [company[i] for i in np.random.randint(0, len(company), 10)],\n",
    "    'Salary': np.random.randint(5, 50, 10),\n",
    "    'Age': np.random.randint(15, 50, 10)\n",
    "})\n",
    "\n",
    "group = data.groupby('Company')\n",
    "# print(group)\n",
    "for item in group:\n",
    "    #print(item)\n",
    "    for i in item:\n",
    "        print(i)\n",
    "# group.mean()\n",
    "group.min()"
   ]
  },
  {
   "cell_type": "code",
   "execution_count": null,
   "id": "be5ac599-f341-4d5c-9c5e-edc9114fbd20",
   "metadata": {},
   "outputs": [],
   "source": []
  }
 ],
 "metadata": {
  "kernelspec": {
   "display_name": "Python 3 (ipykernel)",
   "language": "python",
   "name": "python3"
  },
  "language_info": {
   "codemirror_mode": {
    "name": "ipython",
    "version": 3
   },
   "file_extension": ".py",
   "mimetype": "text/x-python",
   "name": "python",
   "nbconvert_exporter": "python",
   "pygments_lexer": "ipython3",
   "version": "3.9.12"
  }
 },
 "nbformat": 4,
 "nbformat_minor": 5
}
