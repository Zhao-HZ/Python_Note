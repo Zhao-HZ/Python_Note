{
 "cells": [
  {
   "cell_type": "markdown",
   "metadata": {},
   "source": [
    "Basis use of requests\n",
    "https://www.runoob.com/python3/python-requests.html"
   ]
  },
  {
   "cell_type": "markdown",
   "metadata": {},
   "source": [
    "return the content from the website"
   ]
  },
  {
   "cell_type": "code",
   "execution_count": 13,
   "metadata": {},
   "outputs": [],
   "source": [
    "import requests\n",
    "\n",
    "# Send the requests\n",
    "x = requests.get('https://www.runoob.com')\n",
    "\n",
    "# Or you can use\n",
    "# x = requests.request('get', 'https://www.runoob.com')\n",
    "\n",
    "# print(x.text)\n",
    "\n",
    "with open('content.txt', 'w') as f:\n",
    "    f.write(x.text)"
   ]
  },
  {
   "cell_type": "markdown",
   "metadata": {},
   "source": [
    "<img src='method_attr_method.png'></img>"
   ]
  },
  {
   "cell_type": "code",
   "execution_count": null,
   "metadata": {},
   "outputs": [],
   "source": [
    "# Statis code\n",
    "print(x.status_code)\n",
    "\n",
    "# Descibe\n",
    "print(x.reason)\n",
    "\n",
    "# Encoding\n",
    "print(x.apparent_encoding)"
   ]
  },
  {
   "cell_type": "code",
   "execution_count": null,
   "metadata": {},
   "outputs": [],
   "source": [
    "import requests\n",
    "\n",
    "x = requests.get('https://www.runoob.com/try/ajax/json_demo.json')\n",
    "\n",
    "print(x.json())"
   ]
  },
  {
   "cell_type": "markdown",
   "metadata": {},
   "source": [
    "<img src='method_requests.png'></img>"
   ]
  },
  {
   "cell_type": "markdown",
   "metadata": {},
   "source": [
    "using of requests"
   ]
  },
  {
   "cell_type": "code",
   "execution_count": 14,
   "metadata": {},
   "outputs": [
    {
     "name": "stdout",
     "output_type": "stream",
     "text": [
      "200\n"
     ]
    }
   ],
   "source": [
    "import requests\n",
    "\n",
    "# method of requests \n",
    "# response = requests.get(url, params = kw, headers = headers)\n",
    "x = requests.request('get', 'https://www.runoob.com')\n",
    "print(x.status_code)"
   ]
  },
  {
   "cell_type": "markdown",
   "metadata": {},
   "source": [
    "method of post"
   ]
  },
  {
   "cell_type": "code",
   "execution_count": null,
   "metadata": {},
   "outputs": [],
   "source": [
    "import requests\n",
    "\n",
    "x = requests.post('https://www.runoob.com/try/ajax/demo_post.php')\n",
    "\n",
    "print(x.text)"
   ]
  },
  {
   "cell_type": "code",
   "execution_count": 16,
   "metadata": {},
   "outputs": [
    {
     "name": "stdout",
     "output_type": "stream",
     "text": [
      "<p style='color:red;'>你好，RUNOOB Boy，今天过得怎么样？</p>\n",
      "\n"
     ]
    }
   ],
   "source": [
    "import requests\n",
    "\n",
    "myobj = {'fname': 'RUNOOB','lname': 'Boy'}\n",
    "\n",
    "x = requests.post('https://www.runoob.com/try/ajax/demo_post2.php', data = myobj)\n",
    "\n",
    "print(x.text)"
   ]
  }
 ],
 "metadata": {
  "kernelspec": {
   "display_name": "Python 3.9.12 ('base')",
   "language": "python",
   "name": "python3"
  },
  "language_info": {
   "codemirror_mode": {
    "name": "ipython",
    "version": 3
   },
   "file_extension": ".py",
   "mimetype": "text/x-python",
   "name": "python",
   "nbconvert_exporter": "python",
   "pygments_lexer": "ipython3",
   "version": "3.9.12"
  },
  "orig_nbformat": 4,
  "vscode": {
   "interpreter": {
    "hash": "d5d179dc157f08d04603ca6c8232a57937c43a88b5bf6d404998df84287ac484"
   }
  }
 },
 "nbformat": 4,
 "nbformat_minor": 2
}
